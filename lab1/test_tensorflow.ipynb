{
 "cells": [
  {
   "cell_type": "code",
   "execution_count": 2,
   "metadata": {
    "scrolled": true
   },
   "outputs": [
    {
     "name": "stdout",
     "output_type": "stream",
     "text": [
      "3.0\n",
      "900\n"
     ]
    }
   ],
   "source": [
    "import tensorflow as tf\n",
    "# сохраняем граф по умолчанию - в переменную\n",
    "default_graph = tf.get_default_graph() \n",
    "# объявляем константы в графе\n",
    "a = tf.constant(1.0)\n",
    "b = tf.constant(2.0)\n",
    "y = tf.add(a,b)\n",
    "# Для вычисления графа необходимо открыть сессию\n",
    "with tf.Session() as session:\n",
    "    print(y.eval())\n",
    "second_graph = tf.Graph() # создаем второй граф\n",
    "with second_graph.as_default(): # создаем для второго графа константы\n",
    "    a2 = tf.constant(10)\n",
    "    b2 = tf.constant(3)\n",
    "    c2 = tf.multiply(a2,b2)\n",
    "    y2 = tf.pow(c2,2)\n",
    "with tf.Session(graph = second_graph) as session: #открываем сессию для второго графа\n",
    "    print(y2.eval())\n",
    "    "
   ]
  },
  {
   "cell_type": "code",
   "execution_count": null,
   "metadata": {},
   "outputs": [],
   "source": []
  }
 ],
 "metadata": {
  "kernelspec": {
   "display_name": "Python 3",
   "language": "python",
   "name": "python3"
  },
  "language_info": {
   "codemirror_mode": {
    "name": "ipython",
    "version": 3
   },
   "file_extension": ".py",
   "mimetype": "text/x-python",
   "name": "python",
   "nbconvert_exporter": "python",
   "pygments_lexer": "ipython3",
   "version": "3.7.1"
  }
 },
 "nbformat": 4,
 "nbformat_minor": 2
}
